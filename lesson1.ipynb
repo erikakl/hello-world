{
 "cells": [
  {
   "cell_type": "code",
   "execution_count": 3,
   "metadata": {
    "collapsed": false
   },
   "outputs": [
    {
     "data": {
      "text/plain": [
       "7"
      ]
     },
     "execution_count": 3,
     "metadata": {},
     "output_type": "execute_result"
    }
   ],
   "source": [
    "1+6"
   ]
  },
  {
   "cell_type": "code",
   "execution_count": 2,
   "metadata": {
    "collapsed": false
   },
   "outputs": [
    {
     "data": {
      "text/plain": [
       "6"
      ]
     },
     "execution_count": 2,
     "metadata": {},
     "output_type": "execute_result"
    }
   ],
   "source": [
    "1+5"
   ]
  },
  {
   "cell_type": "markdown",
   "metadata": {},
   "source": [
    "$x+y$"
   ]
  },
  {
   "cell_type": "markdown",
   "metadata": {},
   "source": [
    "Python functions"
   ]
  },
  {
   "cell_type": "code",
   "execution_count": 9,
   "metadata": {
    "collapsed": true
   },
   "outputs": [],
   "source": [
    "def boundary(x, on_boundary):\n",
    "    return on_boundary and abs(x) < 1E-13\n"
   ]
  },
  {
   "cell_type": "code",
   "execution_count": 11,
   "metadata": {
    "collapsed": false
   },
   "outputs": [
    {
     "data": {
      "text/plain": [
       "True"
      ]
     },
     "execution_count": 11,
     "metadata": {},
     "output_type": "execute_result"
    }
   ],
   "source": [
    "boundary(0,'erika')"
   ]
  },
  {
   "cell_type": "code",
   "execution_count": 13,
   "metadata": {
    "collapsed": true
   },
   "outputs": [],
   "source": [
    "from dolfin import *"
   ]
  },
  {
   "cell_type": "code",
   "execution_count": 15,
   "metadata": {
    "collapsed": true
   },
   "outputs": [],
   "source": [
    "mesh = IntervalMesh(4, -2, 2)"
   ]
  },
  {
   "cell_type": "code",
   "execution_count": 21,
   "metadata": {
    "collapsed": false
   },
   "outputs": [
    {
     "name": "stdout",
     "output_type": "stream",
     "text": [
      "4\n",
      "5\n",
      "6\n"
     ]
    }
   ],
   "source": [
    "for i in range(4, 7):\n",
    "    print i"
   ]
  },
  {
   "cell_type": "code",
   "execution_count": 22,
   "metadata": {
    "collapsed": true
   },
   "outputs": [],
   "source": [
    "volume = 0\n",
    "for cell in cells(mesh):\n",
    "    volume += cell.volume() "
   ]
  },
  {
   "cell_type": "code",
   "execution_count": 23,
   "metadata": {
    "collapsed": false
   },
   "outputs": [
    {
     "data": {
      "text/plain": [
       "4.0"
      ]
     },
     "execution_count": 23,
     "metadata": {},
     "output_type": "execute_result"
    }
   ],
   "source": [
    "volume"
   ]
  },
  {
   "cell_type": "code",
   "execution_count": 24,
   "metadata": {
    "collapsed": false
   },
   "outputs": [
    {
     "name": "stdout",
     "output_type": "stream",
     "text": [
      "Calling FFC just-in-time (JIT) compiler, this may take some time.\n"
     ]
    },
    {
     "name": "stderr",
     "output_type": "stream",
     "text": [
      "Level 25:FFC:Calling FFC just-in-time (JIT) compiler, this may take some time.\n",
      "INFO:FFC:Compiling form ffc_form_69a25f54555e09e8d8df6b695c08a0025724b8c0\n",
      "\n",
      "INFO:FFC:Compiler stage 1: Analyzing form(s)\n",
      "INFO:FFC:-----------------------------------\n",
      "INFO:FFC:  \n",
      "INFO:FFC:  Geometric dimension:       1\n",
      "  Number of cell subdomains: 0\n",
      "  Rank:                      1\n",
      "  Arguments:                 '(v_0)'\n",
      "  Number of coefficients:    0\n",
      "  Coefficients:              '[]'\n",
      "  Unique elements:           'CG1(?)'\n",
      "  Unique sub elements:       'CG1(?)'\n",
      "  \n",
      "INFO:FFC:  Extracting monomial form representation from UFL form\n",
      "INFO:FFC:  Transforming monomial form to reference element\n",
      "DEBUG:FFC:  Estimated cost of tensor representation: 0\n",
      "INFO:FFC:  representation:    auto --> tensor\n",
      "DEBUG:FFC:  Selecting quadrature degree based on total polynomial degree of integrand: 1\n",
      "INFO:FFC:  quadrature_degree: auto --> 1\n",
      "INFO:FFC:  quadrature_rule:   auto --> default\n",
      "INFO:FFC:  \n",
      "INFO:FFC:Compiler stage 1 finished in 0.00964499 seconds.\n",
      "\n",
      "INFO:FFC:Compiler stage 2: Computing intermediate representation\n",
      "INFO:FFC:-------------------------------------------------------\n",
      "INFO:FFC:  Computing representation of 1 elements\n",
      "DEBUG:FFC:  Reusing element from cache\n",
      "DEBUG:FFC:  Reusing element from cache\n",
      "INFO:FFC:  Computing representation of 1 dofmaps\n",
      "DEBUG:FFC:  Reusing element from cache\n",
      "INFO:FFC:  Computing representation of integrals\n",
      "INFO:FFC:  Computing tensor representation\n",
      "INFO:FFC:  Extracting monomial form representation from UFL form\n",
      "INFO:FFC:  Transforming monomial form to reference element\n",
      "DEBUG:FFC:  Reusing element from cache\n",
      "INFO:FFC:  Precomputing integrals on reference element\n",
      "DEBUG:FFC:  Reusing element from cache\n",
      "DEBUG:FFC:  2 entries computed in 0.000533 seconds\n",
      "DEBUG:FFC:  Shape of reference tensor: (2,)\n",
      "DEBUG:FFC:  Primary multi index:   rank = 1 dims = [2] indices = [[0], [1]]\n",
      "DEBUG:FFC:  Secondary multi index: rank = 0 dims = [] indices = [[]]\n",
      "DEBUG:FFC:  Internal multi index:  rank = 0 dims = [] indices = [[]]\n",
      "DEBUG:FFC:  Secondary multi index: rank = 0 dims = [] indices = [[]]\n",
      "DEBUG:FFC:  External multi index:  rank = 0 dims = [] indices = [[]]\n",
      "DEBUG:FFC:  Reusing element from cache\n",
      "INFO:FFC:  Computing representation of forms\n",
      "INFO:FFC:  \n",
      "INFO:FFC:Compiler stage 2 finished in 0.00593495 seconds.\n",
      "\n",
      "INFO:FFC:Compiler stage 3: Optimizing intermediate representation\n",
      "INFO:FFC:--------------------------------------------------------\n",
      "INFO:FFC:  Skipping optimizations, add -O to optimize\n",
      "INFO:FFC:  \n",
      "INFO:FFC:Compiler stage 3 finished in 0.000796795 seconds.\n",
      "\n",
      "INFO:FFC:Compiler stage 4: Generating code\n",
      "INFO:FFC:---------------------------------\n",
      "INFO:FFC:  Generating code for 1 element(s)\n",
      "DEBUG:FFC:  Removing unused variable: tmp7\n",
      "DEBUG:FFC:  Removing unused variable: tmp6\n",
      "DEBUG:FFC:  Removing unused variable: tmp5\n",
      "DEBUG:FFC:  Removing unused variable: tt\n",
      "DEBUG:FFC:  Removing unused variable: ss\n",
      "DEBUG:FFC:  Removing unused variable: rr\n",
      "DEBUG:FFC:  Removing unused variable: tmp7\n",
      "DEBUG:FFC:  Removing unused variable: tmp6\n",
      "DEBUG:FFC:  Removing unused variable: tmp5\n",
      "DEBUG:FFC:  Removing unused variable: tt\n",
      "DEBUG:FFC:  Removing unused variable: ss\n",
      "DEBUG:FFC:  Removing unused variable: rr\n",
      "DEBUG:FFC:  Removing unused variable: tmp7\n",
      "DEBUG:FFC:  Removing unused variable: tmp6\n",
      "DEBUG:FFC:  Removing unused variable: tmp5\n",
      "DEBUG:FFC:  Removing unused variable: tt\n",
      "DEBUG:FFC:  Removing unused variable: ss\n",
      "DEBUG:FFC:  Removing unused variable: rr\n",
      "DEBUG:FFC:  Removing unused variable: tmp7\n",
      "DEBUG:FFC:  Removing unused variable: tmp6\n",
      "DEBUG:FFC:  Removing unused variable: tmp5\n",
      "DEBUG:FFC:  Removing unused variable: tt\n",
      "DEBUG:FFC:  Removing unused variable: ss\n",
      "DEBUG:FFC:  Removing unused variable: rr\n",
      "INFO:FFC:  Generating code for 1 dofmap(s)\n",
      "INFO:FFC:  Generating code for integrals\n",
      "INFO:FFC:  Generating code for forms\n",
      "INFO:FFC:  \n",
      "INFO:FFC:Compiler stage 4 finished in 0.018244 seconds.\n",
      "\n",
      "INFO:FFC:Compiler stage 4.1 finished in 1.19209e-06 seconds.\n",
      "\n",
      "INFO:FFC:Compiler stage 5: Formatting code\n",
      "INFO:FFC:---------------------------------\n",
      "INFO:FFC:  \n",
      "INFO:FFC:Output written to ./ffc_form_69a25f54555e09e8d8df6b695c08a0025724b8c0.h.\n",
      "INFO:FFC:Compiler stage 5 finished in 0.014287 seconds.\n",
      "\n",
      "INFO:FFC:FFC finished in 0.0504019 seconds.\n",
      "DEBUG:FFC:Compiling and linking Python extension module, this may take some time.\n"
     ]
    }
   ],
   "source": [
    "V = FunctionSpace(mesh, 'CG', 1)"
   ]
  },
  {
   "cell_type": "markdown",
   "metadata": {},
   "source": [
    "Ask function space for number of basis functions"
   ]
  },
  {
   "cell_type": "code",
   "execution_count": 26,
   "metadata": {
    "collapsed": false
   },
   "outputs": [
    {
     "data": {
      "text/plain": [
       "5"
      ]
     },
     "execution_count": 26,
     "metadata": {},
     "output_type": "execute_result"
    }
   ],
   "source": [
    "V.dim()"
   ]
  },
  {
   "cell_type": "markdown",
   "metadata": {},
   "source": [
    "Now onto the boundary conditions"
   ]
  },
  {
   "cell_type": "code",
   "execution_count": 35,
   "metadata": {
    "collapsed": true
   },
   "outputs": [],
   "source": [
    "def boundary(x, on_boundary):\n",
    "    return on_boundary and near(x[0], -2)\n",
    "\n",
    "bc = DirichletBC(V, Constant(42), boundary)\n",
    "u = interpolate(Constant(1), V)"
   ]
  },
  {
   "cell_type": "code",
   "execution_count": 36,
   "metadata": {
    "collapsed": false
   },
   "outputs": [
    {
     "data": {
      "text/plain": [
       "<dolfin.cpp.io.VTKPlotter; proxy of <Swig Object of type 'std::shared_ptr< dolfin::VTKPlotter > *' at 0x7f57f1a6ffc0> >"
      ]
     },
     "execution_count": 36,
     "metadata": {},
     "output_type": "execute_result"
    }
   ],
   "source": [
    "plot(u)"
   ]
  },
  {
   "cell_type": "code",
   "execution_count": 29,
   "metadata": {
    "collapsed": true
   },
   "outputs": [],
   "source": [
    "interactive()"
   ]
  },
  {
   "cell_type": "code",
   "execution_count": 30,
   "metadata": {
    "collapsed": false
   },
   "outputs": [
    {
     "ename": "TypeError",
     "evalue": "in method 'DirichletBC_apply', argument 2 of type 'dolfin::GenericVector &'",
     "output_type": "error",
     "traceback": [
      "\u001b[1;31m---------------------------------------------------------------------------\u001b[0m",
      "\u001b[1;31mTypeError\u001b[0m                                 Traceback (most recent call last)",
      "\u001b[1;32m<ipython-input-30-4a9dc0eefb42>\u001b[0m in \u001b[0;36m<module>\u001b[1;34m()\u001b[0m\n\u001b[1;32m----> 1\u001b[1;33m \u001b[0mbc\u001b[0m\u001b[1;33m.\u001b[0m\u001b[0mapply\u001b[0m\u001b[1;33m(\u001b[0m\u001b[0mu\u001b[0m\u001b[1;33m)\u001b[0m\u001b[1;33m\u001b[0m\u001b[0m\n\u001b[0m",
      "\u001b[1;31mTypeError\u001b[0m: in method 'DirichletBC_apply', argument 2 of type 'dolfin::GenericVector &'"
     ]
    }
   ],
   "source": [
    "bc.apply(u)"
   ]
  },
  {
   "cell_type": "code",
   "execution_count": 31,
   "metadata": {
    "collapsed": false
   },
   "outputs": [
    {
     "name": "stdout",
     "output_type": "stream",
     "text": [
      "[ 1.  1.  1.  1.  1.]\n"
     ]
    }
   ],
   "source": [
    "# Getting coeffs of u\n",
    "print u.vector().array()"
   ]
  },
  {
   "cell_type": "code",
   "execution_count": 38,
   "metadata": {
    "collapsed": true
   },
   "outputs": [],
   "source": [
    "bc.apply(u.vector())"
   ]
  },
  {
   "cell_type": "code",
   "execution_count": 39,
   "metadata": {
    "collapsed": false
   },
   "outputs": [
    {
     "name": "stdout",
     "output_type": "stream",
     "text": [
      "[  1.   1.   1.   1.  42.]\n"
     ]
    }
   ],
   "source": [
    "# Getting coeffs of u after bcs have been applied\n",
    "print u.vector().array()"
   ]
  },
  {
   "cell_type": "code",
   "execution_count": 40,
   "metadata": {
    "collapsed": false
   },
   "outputs": [
    {
     "data": {
      "text/plain": [
       "<dolfin.cpp.io.VTKPlotter; proxy of <Swig Object of type 'std::shared_ptr< dolfin::VTKPlotter > *' at 0x7f57d9447480> >"
      ]
     },
     "execution_count": 40,
     "metadata": {},
     "output_type": "execute_result"
    }
   ],
   "source": [
    "plot(u)"
   ]
  },
  {
   "cell_type": "code",
   "execution_count": 37,
   "metadata": {
    "collapsed": true
   },
   "outputs": [],
   "source": [
    "interactive()"
   ]
  },
  {
   "cell_type": "code",
   "execution_count": 1,
   "metadata": {
    "collapsed": true
   },
   "outputs": [],
   "source": [
    "import erika_module"
   ]
  },
  {
   "cell_type": "code",
   "execution_count": 2,
   "metadata": {
    "collapsed": false
   },
   "outputs": [
    {
     "data": {
      "text/plain": [
       "7"
      ]
     },
     "execution_count": 2,
     "metadata": {},
     "output_type": "execute_result"
    }
   ],
   "source": [
    "erika_module.return_seven()"
   ]
  },
  {
   "cell_type": "code",
   "execution_count": null,
   "metadata": {
    "collapsed": true
   },
   "outputs": [],
   "source": []
  }
 ],
 "metadata": {
  "kernelspec": {
   "display_name": "Python 2",
   "language": "python",
   "name": "python2"
  },
  "language_info": {
   "codemirror_mode": {
    "name": "ipython",
    "version": 2
   },
   "file_extension": ".py",
   "mimetype": "text/x-python",
   "name": "python",
   "nbconvert_exporter": "python",
   "pygments_lexer": "ipython2",
   "version": "2.7.9"
  }
 },
 "nbformat": 4,
 "nbformat_minor": 0
}
