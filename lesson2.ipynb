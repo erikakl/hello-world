{
 "cells": [
  {
   "cell_type": "code",
   "execution_count": 1,
   "metadata": {
    "collapsed": false
   },
   "outputs": [
    {
     "ename": "ImportError",
     "evalue": "No module named dolphin",
     "output_type": "error",
     "traceback": [
      "\u001b[1;31m---------------------------------------------------------------------------\u001b[0m",
      "\u001b[1;31mImportError\u001b[0m                               Traceback (most recent call last)",
      "\u001b[1;32m<ipython-input-1-5c2a0e0293b6>\u001b[0m in \u001b[0;36m<module>\u001b[1;34m()\u001b[0m\n\u001b[1;32m----> 1\u001b[1;33m \u001b[1;32mfrom\u001b[0m \u001b[0mdolphin\u001b[0m \u001b[1;32mimport\u001b[0m \u001b[1;33m*\u001b[0m\u001b[1;33m\u001b[0m\u001b[0m\n\u001b[0m",
      "\u001b[1;31mImportError\u001b[0m: No module named dolphin"
     ]
    }
   ],
   "source": [
    "from dolphin import *"
   ]
  },
  {
   "cell_type": "code",
   "execution_count": 2,
   "metadata": {
    "collapsed": true
   },
   "outputs": [],
   "source": [
    "from dolfin import *"
   ]
  },
  {
   "cell_type": "markdown",
   "metadata": {},
   "source": [
    "# create mesh and define function space"
   ]
  },
  {
   "cell_type": "code",
   "execution_count": 4,
   "metadata": {
    "collapsed": false
   },
   "outputs": [
    {
     "ename": "NameError",
     "evalue": "name 'UnitSquare' is not defined",
     "output_type": "error",
     "traceback": [
      "\u001b[1;31m---------------------------------------------------------------------------\u001b[0m",
      "\u001b[1;31mNameError\u001b[0m                                 Traceback (most recent call last)",
      "\u001b[1;32m<ipython-input-4-7fe8eff11acc>\u001b[0m in \u001b[0;36m<module>\u001b[1;34m()\u001b[0m\n\u001b[1;32m----> 1\u001b[1;33m \u001b[0mmesh\u001b[0m \u001b[1;33m=\u001b[0m  \u001b[0mUnitSquare\u001b[0m\u001b[1;33m(\u001b[0m\u001b[1;36m6\u001b[0m\u001b[1;33m,\u001b[0m \u001b[1;36m4\u001b[0m\u001b[1;33m)\u001b[0m\u001b[1;33m\u001b[0m\u001b[0m\n\u001b[0m",
      "\u001b[1;31mNameError\u001b[0m: name 'UnitSquare' is not defined"
     ]
    }
   ],
   "source": [
    "mesh =  UnitSquare(6, 4)"
   ]
  },
  {
   "cell_type": "code",
   "execution_count": 5,
   "metadata": {
    "collapsed": false
   },
   "outputs": [
    {
     "ename": "NameError",
     "evalue": "name 'UnitSquare' is not defined",
     "output_type": "error",
     "traceback": [
      "\u001b[1;31m---------------------------------------------------------------------------\u001b[0m",
      "\u001b[1;31mNameError\u001b[0m                                 Traceback (most recent call last)",
      "\u001b[1;32m<ipython-input-5-e1ae66f2b5b2>\u001b[0m in \u001b[0;36m<module>\u001b[1;34m()\u001b[0m\n\u001b[1;32m----> 1\u001b[1;33m \u001b[0mmesh\u001b[0m \u001b[1;33m=\u001b[0m \u001b[0mUnitSquare\u001b[0m\u001b[1;33m(\u001b[0m\u001b[1;36m6\u001b[0m\u001b[1;33m,\u001b[0m \u001b[1;36m4\u001b[0m\u001b[1;33m)\u001b[0m\u001b[1;33m\u001b[0m\u001b[0m\n\u001b[0m",
      "\u001b[1;31mNameError\u001b[0m: name 'UnitSquare' is not defined"
     ]
    }
   ],
   "source": [
    "mesh = UnitSquare(6, 4)"
   ]
  },
  {
   "cell_type": "code",
   "execution_count": 9,
   "metadata": {
    "collapsed": false
   },
   "outputs": [],
   "source": [
    "mesh = IntervalMesh(4, -2, 2)"
   ]
  },
  {
   "cell_type": "code",
   "execution_count": 8,
   "metadata": {
    "collapsed": false
   },
   "outputs": [
    {
     "data": {
      "text/plain": [
       "4"
      ]
     },
     "execution_count": 8,
     "metadata": {},
     "output_type": "execute_result"
    }
   ],
   "source": [
    "1+3"
   ]
  },
  {
   "cell_type": "code",
   "execution_count": 10,
   "metadata": {
    "collapsed": false
   },
   "outputs": [
    {
     "data": {
      "image/svg+xml": [
       "\n",
       "    <svg xmlns=\"http://www.w3.org/2000/svg\" version=\"1.1\" width=\"840\" height=\"42\">\n",
       "    <line x1=\"20\" y1=\"20\" x2=\"220\" y2=\"20\" style=\"fill:none; stroke:black; stroke-width:\"2\" />\n",
       "<line x1=\"220\" y1=\"20\" x2=\"420\" y2=\"20\" style=\"fill:none; stroke:black; stroke-width:\"2\" />\n",
       "<line x1=\"420\" y1=\"20\" x2=\"620\" y2=\"20\" style=\"fill:none; stroke:black; stroke-width:\"2\" />\n",
       "<line x1=\"620\" y1=\"20\" x2=\"820\" y2=\"20\" style=\"fill:none; stroke:black; stroke-width:\"2\" />\n",
       "    <circle cx=\"20\" cy=\"20\" r=\"2\" stroke=\"black\" stroke-width=\"0\" fill=\"red\" />\n",
       "<circle cx=\"220\" cy=\"20\" r=\"2\" stroke=\"black\" stroke-width=\"0\" fill=\"red\" />\n",
       "<circle cx=\"420\" cy=\"20\" r=\"2\" stroke=\"black\" stroke-width=\"0\" fill=\"red\" />\n",
       "<circle cx=\"620\" cy=\"20\" r=\"2\" stroke=\"black\" stroke-width=\"0\" fill=\"red\" />\n",
       "<circle cx=\"820\" cy=\"20\" r=\"2\" stroke=\"black\" stroke-width=\"0\" fill=\"red\" />\n",
       "    </svg>\n",
       "    "
      ],
      "text/plain": [
       "<dolfin.cpp.mesh.IntervalMesh; proxy of <Swig Object of type 'std::shared_ptr< dolfin::IntervalMesh > *' at 0x7f1a8e6e2bd0> >"
      ]
     },
     "execution_count": 10,
     "metadata": {},
     "output_type": "execute_result"
    }
   ],
   "source": [
    "mesh"
   ]
  },
  {
   "cell_type": "code",
   "execution_count": 11,
   "metadata": {
    "collapsed": true
   },
   "outputs": [],
   "source": [
    "mesh = UnitSquareMesh(6, 4)"
   ]
  },
  {
   "cell_type": "code",
   "execution_count": 12,
   "metadata": {
    "collapsed": false
   },
   "outputs": [
    {
     "name": "stderr",
     "output_type": "stream",
     "text": [
      "DEBUG:FFC:Reusing form from cache.\n"
     ]
    }
   ],
   "source": [
    "V = FunctionSpace(mesh,\"Lagrange\", 1)"
   ]
  },
  {
   "cell_type": "code",
   "execution_count": 13,
   "metadata": {
    "collapsed": true
   },
   "outputs": [],
   "source": [
    "u0 = Expression(\"1+x[0]*x[0]+2*x[1]*x[1]\")"
   ]
  },
  {
   "cell_type": "code",
   "execution_count": 14,
   "metadata": {
    "collapsed": false
   },
   "outputs": [
    {
     "data": {
      "image/png": "[encoded data removed]",
      "text/latex": [
       "${w_h^6}$"
      ],
      "text/plain": [
       "Coefficient(FunctionSpace(None, FiniteElement('Lagrange', None, None)), 6)"
      ]
     },
     "execution_count": 14,
     "metadata": {},
     "output_type": "execute_result"
    }
   ],
   "source": [
    "u0\n"
   ]
  },
  {
   "cell_type": "code",
   "execution_count": 15,
   "metadata": {
    "collapsed": true
   },
   "outputs": [],
   "source": [
    "def u0_boundary(x, on_boundary):\n",
    "    return on_boundary"
   ]
  },
  {
   "cell_type": "code",
   "execution_count": 16,
   "metadata": {
    "collapsed": true
   },
   "outputs": [],
   "source": [
    "bc = DirichletBC(V, u0, u0_boundary)"
   ]
  },
  {
   "cell_type": "markdown",
   "metadata": {},
   "source": [
    "#Define variational problem "
   ]
  },
  {
   "cell_type": "code",
   "execution_count": 17,
   "metadata": {
    "collapsed": true
   },
   "outputs": [],
   "source": [
    "u = TrialFunction(V)"
   ]
  },
  {
   "cell_type": "code",
   "execution_count": 19,
   "metadata": {
    "collapsed": true
   },
   "outputs": [],
   "source": [
    "v = TestFunction(V)"
   ]
  },
  {
   "cell_type": "code",
   "execution_count": 20,
   "metadata": {
    "collapsed": true
   },
   "outputs": [],
   "source": [
    "f = Constant(-6.0)"
   ]
  },
  {
   "cell_type": "code",
   "execution_count": 21,
   "metadata": {
    "collapsed": true
   },
   "outputs": [],
   "source": [
    "a = inner(nabla_grad(u), nabla_grad(v))*dx"
   ]
  },
  {
   "cell_type": "code",
   "execution_count": 22,
   "metadata": {
    "collapsed": true
   },
   "outputs": [],
   "source": [
    "L = f*v*dx"
   ]
  },
  {
   "cell_type": "markdown",
   "metadata": {},
   "source": [
    "# Compute Solution"
   ]
  },
  {
   "cell_type": "code",
   "execution_count": 23,
   "metadata": {
    "collapsed": true
   },
   "outputs": [],
   "source": [
    "u = Function(V)"
   ]
  },
  {
   "cell_type": "code",
   "execution_count": 24,
   "metadata": {
    "collapsed": false
   },
   "outputs": [
    {
     "name": "stdout",
     "output_type": "stream",
     "text": [
      "Calling FFC just-in-time (JIT) compiler, this may take some time.\n"
     ]
    },
    {
     "name": "stderr",
     "output_type": "stream",
     "text": [
      "Level 25:FFC:Calling FFC just-in-time (JIT) compiler, this may take some time.\n",
      "INFO:FFC:Compiling form ffc_form_fe0d706b0842ba20771e1f894f31fb34a6a02806\n",
      "\n",
      "INFO:FFC:Compiler stage 1: Analyzing form(s)\n",
      "INFO:FFC:-----------------------------------\n",
      "INFO:UFL:Adjusting missing element cell to triangle.\n",
      "INFO:FFC:  \n",
      "INFO:FFC:  Geometric dimension:       2\n",
      "  Number of cell subdomains: 0\n",
      "  Rank:                      1\n",
      "  Arguments:                 '(v_0)'\n",
      "  Number of coefficients:    1\n",
      "  Coefficients:              '[f_8]'\n",
      "  Unique elements:           'CG1(?), R0(?)'\n",
      "  Unique sub elements:       'CG1(?), R0(?)'\n",
      "  \n",
      "INFO:FFC:  Extracting monomial form representation from UFL form\n",
      "INFO:FFC:  Transforming monomial form to reference element\n",
      "DEBUG:FFC:  Estimated cost of tensor representation: 1\n",
      "INFO:FFC:  representation:    auto --> tensor\n",
      "DEBUG:FFC:  Selecting quadrature degree based on total polynomial degree of integrand: 1\n",
      "INFO:FFC:  quadrature_degree: auto --> 1\n",
      "INFO:FFC:  quadrature_rule:   auto --> default\n",
      "INFO:FFC:  \n",
      "INFO:FFC:Compiler stage 1 finished in 0.0369461 seconds.\n",
      "\n",
      "INFO:FFC:Compiler stage 2: Computing intermediate representation\n",
      "INFO:FFC:-------------------------------------------------------\n",
      "INFO:FFC:  Computing representation of 2 elements\n",
      "DEBUG:FFC:  Reusing element from cache\n",
      "DEBUG:FFC:  Reusing element from cache\n",
      "DEBUG:FFC:  Reusing element from cache\n",
      "DEBUG:FFC:  Reusing element from cache\n",
      "INFO:FFC:  Computing representation of 2 dofmaps\n",
      "DEBUG:FFC:  Reusing element from cache\n",
      "DEBUG:FFC:  Reusing element from cache\n",
      "INFO:FFC:  Computing representation of integrals\n",
      "INFO:FFC:  Computing tensor representation\n",
      "INFO:FFC:  Extracting monomial form representation from UFL form\n",
      "INFO:FFC:  Transforming monomial form to reference element\n",
      "DEBUG:FFC:  Reusing element from cache\n",
      "DEBUG:FFC:  Reusing element from cache\n",
      "INFO:FFC:  Precomputing integrals on reference element\n",
      "DEBUG:FFC:  Reusing element from cache\n",
      "DEBUG:FFC:  Reusing element from cache\n",
      "DEBUG:FFC:  3 entries computed in 0.000797 seconds\n",
      "DEBUG:FFC:  Shape of reference tensor: (3, 1)\n",
      "DEBUG:FFC:  Primary multi index:   rank = 1 dims = [3] indices = [[0], [1], [2]]\n",
      "DEBUG:FFC:  Secondary multi index: rank = 1 dims = [1] indices = [[0]]\n",
      "DEBUG:FFC:  Internal multi index:  rank = 0 dims = [] indices = [[]]\n",
      "DEBUG:FFC:  Secondary multi index: rank = 1 dims = [1] indices = [[0]]\n",
      "DEBUG:FFC:  External multi index:  rank = 0 dims = [] indices = [[]]\n",
      "DEBUG:FFC:  Reusing element from cache\n",
      "DEBUG:FFC:  Reusing element from cache\n",
      "INFO:FFC:  Computing representation of forms\n",
      "INFO:FFC:  \n",
      "INFO:FFC:Compiler stage 2 finished in 0.00821209 seconds.\n",
      "\n",
      "INFO:FFC:Compiler stage 3: Optimizing intermediate representation\n",
      "INFO:FFC:--------------------------------------------------------\n",
      "INFO:FFC:  Skipping optimizations, add -O to optimize\n",
      "INFO:FFC:  \n",
      "INFO:FFC:Compiler stage 3 finished in 0.000807047 seconds.\n",
      "\n",
      "INFO:FFC:Compiler stage 4: Generating code\n",
      "INFO:FFC:---------------------------------\n",
      "INFO:FFC:  Generating code for 2 element(s)\n",
      "DEBUG:FFC:  Removing unused variable: tmp2\n",
      "DEBUG:FFC:  Removing unused variable: tmp1\n",
      "DEBUG:FFC:  Removing unused variable: tmp0\n",
      "DEBUG:FFC:  Removing unused variable: tmp7\n",
      "DEBUG:FFC:  Removing unused variable: tmp6\n",
      "DEBUG:FFC:  Removing unused variable: tmp5\n",
      "DEBUG:FFC:  Removing unused variable: tt\n",
      "DEBUG:FFC:  Removing unused variable: ss\n",
      "DEBUG:FFC:  Removing unused variable: rr\n",
      "DEBUG:FFC:  Removing unused variable: Y\n",
      "DEBUG:FFC:  Removing unused variable: X\n",
      "DEBUG:FFC:  Removing unused variable: C1\n",
      "DEBUG:FFC:  Removing unused variable: C0\n",
      "DEBUG:FFC:  Removing unused variable: tmp2\n",
      "DEBUG:FFC:  Removing unused variable: tmp1\n",
      "DEBUG:FFC:  Removing unused variable: tmp7\n",
      "DEBUG:FFC:  Removing unused variable: tmp6\n",
      "DEBUG:FFC:  Removing unused variable: tmp5\n",
      "DEBUG:FFC:  Removing unused variable: tt\n",
      "DEBUG:FFC:  Removing unused variable: ss\n",
      "DEBUG:FFC:  Removing unused variable: rr\n",
      "DEBUG:FFC:  Removing unused variable: tmp2\n",
      "DEBUG:FFC:  Removing unused variable: tmp1\n",
      "DEBUG:FFC:  Removing unused variable: tmp7\n",
      "DEBUG:FFC:  Removing unused variable: tmp6\n",
      "DEBUG:FFC:  Removing unused variable: tmp5\n",
      "DEBUG:FFC:  Removing unused variable: tt\n",
      "DEBUG:FFC:  Removing unused variable: ss\n",
      "DEBUG:FFC:  Removing unused variable: rr\n",
      "DEBUG:FFC:  Removing unused variable: tmp2\n",
      "DEBUG:FFC:  Removing unused variable: tmp1\n",
      "DEBUG:FFC:  Removing unused variable: tmp7\n",
      "DEBUG:FFC:  Removing unused variable: tmp6\n",
      "DEBUG:FFC:  Removing unused variable: tmp5\n",
      "DEBUG:FFC:  Removing unused variable: tt\n",
      "DEBUG:FFC:  Removing unused variable: ss\n",
      "DEBUG:FFC:  Removing unused variable: rr\n",
      "DEBUG:FFC:  Removing unused variable: tmp2\n",
      "DEBUG:FFC:  Removing unused variable: tmp1\n",
      "DEBUG:FFC:  Removing unused variable: tmp7\n",
      "DEBUG:FFC:  Removing unused variable: tmp6\n",
      "DEBUG:FFC:  Removing unused variable: tmp5\n",
      "DEBUG:FFC:  Removing unused variable: tt\n",
      "DEBUG:FFC:  Removing unused variable: ss\n",
      "DEBUG:FFC:  Removing unused variable: rr\n",
      "DEBUG:FFC:  Removing unused variable: tmp2\n",
      "DEBUG:FFC:  Removing unused variable: tmp1\n",
      "DEBUG:FFC:  Removing unused variable: tmp7\n",
      "DEBUG:FFC:  Removing unused variable: tmp6\n",
      "DEBUG:FFC:  Removing unused variable: tmp5\n",
      "DEBUG:FFC:  Removing unused variable: tt\n",
      "DEBUG:FFC:  Removing unused variable: ss\n",
      "DEBUG:FFC:  Removing unused variable: rr\n",
      "DEBUG:FFC:  Removing unused variable: tmp2\n",
      "DEBUG:FFC:  Removing unused variable: tmp1\n",
      "DEBUG:FFC:  Removing unused variable: tmp7\n",
      "DEBUG:FFC:  Removing unused variable: tmp6\n",
      "DEBUG:FFC:  Removing unused variable: tmp5\n",
      "DEBUG:FFC:  Removing unused variable: tt\n",
      "DEBUG:FFC:  Removing unused variable: ss\n",
      "DEBUG:FFC:  Removing unused variable: rr\n",
      "INFO:FFC:  Generating code for 2 dofmap(s)\n",
      "INFO:FFC:  Generating code for integrals\n",
      "INFO:FFC:  Generating code for forms\n",
      "INFO:FFC:  \n",
      "INFO:FFC:Compiler stage 4 finished in 0.0380301 seconds.\n",
      "\n",
      "INFO:FFC:Compiler stage 4.1 finished in 9.53674e-07 seconds.\n",
      "\n",
      "INFO:FFC:Compiler stage 5: Formatting code\n",
      "INFO:FFC:---------------------------------\n",
      "INFO:FFC:  \n",
      "INFO:FFC:Output written to ./ffc_form_fe0d706b0842ba20771e1f894f31fb34a6a02806.h.\n",
      "INFO:FFC:Compiler stage 5 finished in 0.0074892 seconds.\n",
      "\n",
      "INFO:FFC:FFC finished in 0.0929461 seconds.\n",
      "DEBUG:FFC:Compiling and linking Python extension module, this may take some time.\n"
     ]
    },
    {
     "name": "stdout",
     "output_type": "stream",
     "text": [
      "Calling FFC just-in-time (JIT) compiler, this may take some time.\n"
     ]
    },
    {
     "name": "stderr",
     "output_type": "stream",
     "text": [
      "Level 25:FFC:Calling FFC just-in-time (JIT) compiler, this may take some time.\n",
      "INFO:FFC:Compiling form ffc_form_582dfce585d8f8c5f2301233a4d39e56a2a038ff\n",
      "\n",
      "INFO:FFC:Compiler stage 1: Analyzing form(s)\n",
      "INFO:FFC:-----------------------------------\n",
      "INFO:FFC:  \n",
      "INFO:FFC:  Geometric dimension:       2\n",
      "  Number of cell subdomains: 0\n",
      "  Rank:                      2\n",
      "  Arguments:                 '(v_0, v_1)'\n",
      "  Number of coefficients:    0\n",
      "  Coefficients:              '[]'\n",
      "  Unique elements:           'CG1(?)'\n",
      "  Unique sub elements:       'CG1(?)'\n",
      "  \n",
      "INFO:FFC:  Extracting monomial form representation from UFL form\n",
      "INFO:FFC:  Transforming monomial form to reference element\n",
      "DEBUG:FFC:  Reusing element from cache\n",
      "DEBUG:FFC:  Reusing element from cache\n",
      "DEBUG:FFC:  Estimated cost of tensor representation: 2\n",
      "INFO:FFC:  representation:    auto --> tensor\n",
      "DEBUG:FFC:  Selecting quadrature degree based on total polynomial degree of integrand: 0\n",
      "INFO:FFC:  quadrature_degree: auto --> 0\n",
      "INFO:FFC:  quadrature_rule:   auto --> default\n",
      "INFO:FFC:  \n",
      "INFO:FFC:Compiler stage 1 finished in 0.00889897 seconds.\n",
      "\n",
      "INFO:FFC:Compiler stage 2: Computing intermediate representation\n",
      "INFO:FFC:-------------------------------------------------------\n",
      "INFO:FFC:  Computing representation of 1 elements\n",
      "DEBUG:FFC:  Reusing element from cache\n",
      "DEBUG:FFC:  Reusing element from cache\n",
      "INFO:FFC:  Computing representation of 1 dofmaps\n",
      "DEBUG:FFC:  Reusing element from cache\n",
      "INFO:FFC:  Computing representation of integrals\n",
      "INFO:FFC:  Computing tensor representation\n",
      "INFO:FFC:  Extracting monomial form representation from UFL form\n",
      "INFO:FFC:  Transforming monomial form to reference element\n",
      "DEBUG:FFC:  Reusing element from cache\n",
      "DEBUG:FFC:  Reusing element from cache\n",
      "INFO:FFC:  Precomputing integrals on reference element\n",
      "DEBUG:FFC:  Reusing element from cache\n",
      "DEBUG:FFC:  36 entries computed in 0.000524 seconds\n",
      "DEBUG:FFC:  Shape of reference tensor: (3, 3, 2, 2)\n",
      "DEBUG:FFC:  Primary multi index:   rank = 2 dims = [3, 3] indices = [[0, 0], [0, 1], [0, 2], [1, 0], [1, 1], [1, 2], [2, 0], [2, 1], [2, 2]]\n",
      "DEBUG:FFC:  Secondary multi index: rank = 2 dims = [2, 2] indices = [[0, 0], [0, 1], [1, 0], [1, 1]]\n",
      "DEBUG:FFC:  Internal multi index:  rank = 0 dims = [] indices = [[]]\n",
      "DEBUG:FFC:  Secondary multi index: rank = 2 dims = [2, 2] indices = [[0, 0], [0, 1], [1, 0], [1, 1]]\n",
      "DEBUG:FFC:  External multi index:  rank = 1 dims = [2] indices = [[0], [1]]\n",
      "DEBUG:FFC:  Reusing element from cache\n",
      "INFO:FFC:  Computing representation of forms\n",
      "INFO:FFC:  \n",
      "INFO:FFC:Compiler stage 2 finished in 0.00661898 seconds.\n",
      "\n",
      "INFO:FFC:Compiler stage 3: Optimizing intermediate representation\n",
      "INFO:FFC:--------------------------------------------------------\n",
      "INFO:FFC:  Skipping optimizations, add -O to optimize\n",
      "INFO:FFC:  \n",
      "INFO:FFC:Compiler stage 3 finished in 0.000818014 seconds.\n",
      "\n",
      "INFO:FFC:Compiler stage 4: Generating code\n",
      "INFO:FFC:---------------------------------\n",
      "INFO:FFC:  Generating code for 1 element(s)\n",
      "DEBUG:FFC:  Removing unused variable: tmp2\n",
      "DEBUG:FFC:  Removing unused variable: tmp1\n",
      "DEBUG:FFC:  Removing unused variable: tmp7\n",
      "DEBUG:FFC:  Removing unused variable: tmp6\n",
      "DEBUG:FFC:  Removing unused variable: tmp5\n",
      "DEBUG:FFC:  Removing unused variable: tt\n",
      "DEBUG:FFC:  Removing unused variable: ss\n",
      "DEBUG:FFC:  Removing unused variable: rr\n",
      "DEBUG:FFC:  Removing unused variable: tmp2\n",
      "DEBUG:FFC:  Removing unused variable: tmp1\n",
      "DEBUG:FFC:  Removing unused variable: tmp7\n",
      "DEBUG:FFC:  Removing unused variable: tmp6\n",
      "DEBUG:FFC:  Removing unused variable: tmp5\n",
      "DEBUG:FFC:  Removing unused variable: tt\n",
      "DEBUG:FFC:  Removing unused variable: ss\n",
      "DEBUG:FFC:  Removing unused variable: rr\n",
      "DEBUG:FFC:  Removing unused variable: tmp2\n",
      "DEBUG:FFC:  Removing unused variable: tmp1\n",
      "DEBUG:FFC:  Removing unused variable: tmp7\n",
      "DEBUG:FFC:  Removing unused variable: tmp6\n",
      "DEBUG:FFC:  Removing unused variable: tmp5\n",
      "DEBUG:FFC:  Removing unused variable: tt\n",
      "DEBUG:FFC:  Removing unused variable: ss\n",
      "DEBUG:FFC:  Removing unused variable: rr\n",
      "DEBUG:FFC:  Removing unused variable: tmp2\n",
      "DEBUG:FFC:  Removing unused variable: tmp1\n",
      "DEBUG:FFC:  Removing unused variable: tmp7\n",
      "DEBUG:FFC:  Removing unused variable: tmp6\n",
      "DEBUG:FFC:  Removing unused variable: tmp5\n",
      "DEBUG:FFC:  Removing unused variable: tt\n",
      "DEBUG:FFC:  Removing unused variable: ss\n",
      "DEBUG:FFC:  Removing unused variable: rr\n",
      "DEBUG:FFC:  Removing unused variable: tmp2\n",
      "DEBUG:FFC:  Removing unused variable: tmp1\n",
      "DEBUG:FFC:  Removing unused variable: tmp7\n",
      "DEBUG:FFC:  Removing unused variable: tmp6\n",
      "DEBUG:FFC:  Removing unused variable: tmp5\n",
      "DEBUG:FFC:  Removing unused variable: tt\n",
      "DEBUG:FFC:  Removing unused variable: ss\n",
      "DEBUG:FFC:  Removing unused variable: rr\n",
      "DEBUG:FFC:  Removing unused variable: tmp2\n",
      "DEBUG:FFC:  Removing unused variable: tmp1\n",
      "DEBUG:FFC:  Removing unused variable: tmp7\n",
      "DEBUG:FFC:  Removing unused variable: tmp6\n",
      "DEBUG:FFC:  Removing unused variable: tmp5\n",
      "DEBUG:FFC:  Removing unused variable: tt\n",
      "DEBUG:FFC:  Removing unused variable: ss\n",
      "DEBUG:FFC:  Removing unused variable: rr\n",
      "INFO:FFC:  Generating code for 1 dofmap(s)\n",
      "INFO:FFC:  Generating code for integrals\n",
      "INFO:FFC:  Generating code for forms\n",
      "INFO:FFC:  \n",
      "INFO:FFC:Compiler stage 4 finished in 0.0276899 seconds.\n",
      "\n",
      "INFO:FFC:Compiler stage 4.1 finished in 5.00679e-06 seconds.\n",
      "\n",
      "INFO:FFC:Compiler stage 5: Formatting code\n",
      "INFO:FFC:---------------------------------\n",
      "INFO:FFC:  \n",
      "INFO:FFC:Output written to ./ffc_form_582dfce585d8f8c5f2301233a4d39e56a2a038ff.h.\n",
      "INFO:FFC:Compiler stage 5 finished in 0.00607705 seconds.\n",
      "\n",
      "INFO:FFC:FFC finished in 0.051553 seconds.\n",
      "DEBUG:FFC:Compiling and linking Python extension module, this may take some time.\n"
     ]
    }
   ],
   "source": [
    "solve(a == L, u, bc)"
   ]
  },
  {
   "cell_type": "code",
   "execution_count": 25,
   "metadata": {
    "collapsed": true
   },
   "outputs": [],
   "source": [
    "# plot solution and mesh"
   ]
  },
  {
   "cell_type": "code",
   "execution_count": 26,
   "metadata": {
    "collapsed": false
   },
   "outputs": [
    {
     "data": {
      "text/plain": [
       "<dolfin.cpp.io.VTKPlotter; proxy of <Swig Object of type 'std::shared_ptr< dolfin::VTKPlotter > *' at 0x7f1a8b8ec6f0> >"
      ]
     },
     "execution_count": 26,
     "metadata": {},
     "output_type": "execute_result"
    }
   ],
   "source": [
    "plot(u)"
   ]
  },
  {
   "cell_type": "code",
   "execution_count": 27,
   "metadata": {
    "collapsed": false
   },
   "outputs": [
    {
     "data": {
      "text/plain": [
       "<dolfin.cpp.io.VTKPlotter; proxy of <Swig Object of type 'std::shared_ptr< dolfin::VTKPlotter > *' at 0x7f1a8b8ec870> >"
      ]
     },
     "execution_count": 27,
     "metadata": {},
     "output_type": "execute_result"
    }
   ],
   "source": [
    "plot(mesh)"
   ]
  },
  {
   "cell_type": "code",
   "execution_count": 28,
   "metadata": {
    "collapsed": true
   },
   "outputs": [],
   "source": [
    "interactive()"
   ]
  },
  {
   "cell_type": "code",
   "execution_count": 29,
   "metadata": {
    "collapsed": false
   },
   "outputs": [
    {
     "data": {
      "text/plain": [
       "<dolfin.cpp.io.VTKPlotter; proxy of <Swig Object of type 'std::shared_ptr< dolfin::VTKPlotter > *' at 0x7f1a8b8ec630> >"
      ]
     },
     "execution_count": 29,
     "metadata": {},
     "output_type": "execute_result"
    }
   ],
   "source": [
    "plot(u)"
   ]
  },
  {
   "cell_type": "code",
   "execution_count": 30,
   "metadata": {
    "collapsed": true
   },
   "outputs": [],
   "source": [
    "#dump solution to file in VTK format\n"
   ]
  },
  {
   "cell_type": "code",
   "execution_count": 31,
   "metadata": {
    "collapsed": true
   },
   "outputs": [],
   "source": [
    "file = File(\"poisson.pvd\")"
   ]
  },
  {
   "cell_type": "code",
   "execution_count": 32,
   "metadata": {
    "collapsed": true
   },
   "outputs": [],
   "source": [
    "file << u"
   ]
  },
  {
   "cell_type": "code",
   "execution_count": 33,
   "metadata": {
    "collapsed": true
   },
   "outputs": [],
   "source": [
    "#hold plot\n",
    "interactive()"
   ]
  },
  {
   "cell_type": "code",
   "execution_count": null,
   "metadata": {
    "collapsed": true
   },
   "outputs": [],
   "source": []
  }
 ],
 "metadata": {
  "kernelspec": {
   "display_name": "Python 2",
   "language": "python",
   "name": "python2"
  },
  "language_info": {
   "codemirror_mode": {
    "name": "ipython",
    "version": 2
   },
   "file_extension": ".py",
   "mimetype": "text/x-python",
   "name": "python",
   "nbconvert_exporter": "python",
   "pygments_lexer": "ipython2",
   "version": "2.7.9"
  }
 },
 "nbformat": 4,
 "nbformat_minor": 0
}
